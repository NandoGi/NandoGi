{
  "nbformat": 4,
  "nbformat_minor": 0,
  "metadata": {
    "colab": {
      "provenance": [],
      "authorship_tag": "ABX9TyNQvCr+S7KMvC3KfUE+Id0E",
      "include_colab_link": true
    },
    "kernelspec": {
      "name": "python3",
      "display_name": "Python 3"
    },
    "language_info": {
      "name": "python"
    }
  },
  "cells": [
    {
      "cell_type": "markdown",
      "metadata": {
        "id": "view-in-github",
        "colab_type": "text"
      },
      "source": [
        "<a href=\"https://colab.research.google.com/github/NandoGi/NandoGi/blob/master/worldcup_data_historical.ipynb\" target=\"_parent\"><img src=\"https://colab.research.google.com/assets/colab-badge.svg\" alt=\"Open In Colab\"/></a>"
      ]
    },
    {
      "cell_type": "code",
      "source": [
        "from bs4 import BeautifulSoup\n",
        "import requests\n",
        "import pandas as pd\n",
        "pd.set_option('display.max_rows', 100)"
      ],
      "metadata": {
        "id": "a4yneJNk_WxS"
      },
      "execution_count": 53,
      "outputs": []
    },
    {
      "cell_type": "code",
      "execution_count": 55,
      "metadata": {
        "id": "QLCjRfo29kHS"
      },
      "outputs": [],
      "source": [
        "years = [1930, 1934, 1938, 1950, 1954, 1958, 1962, 1964, 1968, 1972, 1976, 1980, 1984, 1988, 1992, 1994, 1998, 2002, 2006, 2010,\n",
        "         2014, 2018]"
      ]
    },
    {
      "cell_type": "code",
      "source": [
        "def get_matches(year):\n",
        "  web = f'https://en.wikipedia.org/wiki/{year}_FIFA_World_Cup'\n",
        "  response = requests.get(web)\n",
        "  content = response.text\n",
        "  soup = BeautifulSoup(content, 'lxml')\n",
        "\n",
        "  matches = soup.find_all('div', class_='footballbox')\n",
        "\n",
        "  home = []\n",
        "  score = []\n",
        "  away = []\n",
        "  for match in matches:\n",
        "    home.append(match.find('th', class_='fhome').get_text())\n",
        "    score.append(match.find('th', class_='fscore').get_text())\n",
        "    away.append(match.find('th', class_='faway').get_text())\n",
        "\n",
        "  dict_football = {'home':home, 'score':score, 'away':away}\n",
        "  df_football = pd.DataFrame(dict_football)\n",
        "  df_football['year'] = year\n",
        "  return df_football"
      ],
      "metadata": {
        "id": "wAiwRwIw_8R-"
      },
      "execution_count": 48,
      "outputs": []
    },
    {
      "cell_type": "code",
      "source": [
        "fifa = [get_matches(year) for year in years]\n",
        "df_fifa = pd.concat(fifa, ignore_index = True)\n",
        "df_fifa.to_csv('fifa_worldcup_historical_data.csv', sep = ';', index = False)"
      ],
      "metadata": {
        "id": "kUvI1Pit0WtP"
      },
      "execution_count": 57,
      "outputs": []
    },
    {
      "cell_type": "markdown",
      "source": [
        "#fixture 2022"
      ],
      "metadata": {
        "id": "N0Y9itHf3knh"
      }
    },
    {
      "cell_type": "code",
      "source": [
        "df_fixture = get_matches(2022)\n",
        "df_fixture.to_csv('fifa_worlcup_fixture_2022.csv', sep = ';', index = False)"
      ],
      "metadata": {
        "id": "SuJpZr5n3nlU"
      },
      "execution_count": 50,
      "outputs": []
    }
  ]
}